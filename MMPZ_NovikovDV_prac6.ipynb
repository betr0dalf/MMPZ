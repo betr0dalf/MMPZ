{
  "nbformat": 4,
  "nbformat_minor": 0,
  "metadata": {
    "colab": {
      "provenance": [],
      "authorship_tag": "ABX9TyOeiOPGsRV2P8tr4eYb63Y0",
      "include_colab_link": true
    },
    "kernelspec": {
      "name": "python3",
      "display_name": "Python 3"
    },
    "language_info": {
      "name": "python"
    }
  },
  "cells": [
    {
      "cell_type": "markdown",
      "metadata": {
        "id": "view-in-github",
        "colab_type": "text"
      },
      "source": [
        "<a href=\"https://colab.research.google.com/github/betr0dalf/MMPZ/blob/main/MMPZ_NovikovDV_prac6.ipynb\" target=\"_parent\"><img src=\"https://colab.research.google.com/assets/colab-badge.svg\" alt=\"Open In Colab\"/></a>"
      ]
    },
    {
      "cell_type": "markdown",
      "source": [
        "# Математическое моделирование прикладных задач\n",
        "# Практическая работа № 6\n",
        "# Выполнил студент группы ИНБО-05-22\n",
        "# Новиков Денис Владиславович"
      ],
      "metadata": {
        "id": "oYBO0cXMZuLx"
      }
    },
    {
      "cell_type": "markdown",
      "source": [
        "## Задание\n"
      ],
      "metadata": {
        "id": "yTedcSZVhEuk"
      }
    },
    {
      "cell_type": "markdown",
      "source": [
        "1. Решить систему нелинейных уравнений методом итерации с точностью до 0.001 и до 0.0001.\n",
        "2. Провести сравнение полученных значений времени вычисления и количества итераций для разных значений точности.\n",
        "3. Результаты расчета вывести на экран и оформить в виде таблицы в отчете."
      ],
      "metadata": {
        "id": "T53xhWT8I8RL"
      }
    },
    {
      "cell_type": "markdown",
      "source": [
        "Персональный вариант:\n",
        "\n",
        "![image.png](data:image/png;base64,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)"
      ],
      "metadata": {
        "id": "w18lbi8oL3Fr"
      }
    },
    {
      "cell_type": "code",
      "execution_count": null,
      "metadata": {
        "colab": {
          "base_uri": "https://localhost:8080/"
        },
        "id": "oeGgzizlZcEG",
        "outputId": "7837e1cd-0fef-4abd-8970-2fa18005deab"
      },
      "outputs": [
        {
          "output_type": "stream",
          "name": "stdout",
          "text": [
            "Точность: 0.001\n",
            "x = 0.616, y = 0.589, Количество итераций: 7\n",
            "Время выполнения: 0.000135 секунд\n",
            "\n",
            "Точность: 0.0001\n",
            "x = 0.6172, y = 0.5897, Количество итераций: 10\n",
            "Время выполнения: 0.002287 секунд\n"
          ]
        }
      ],
      "source": [
        "from math import sqrt, tan, log10\n",
        "import time\n",
        "\n",
        "def iteration_method(epsilon):\n",
        "    # Начальные приближения\n",
        "    x_n = 0.5\n",
        "    y_n = 0.5\n",
        "    iteration_count = 0\n",
        "\n",
        "    while True:\n",
        "        # Вычисляем новые значения x и y\n",
        "        x_new = sqrt(tan(x_n * y_n))\n",
        "        y_new = sqrt((1 - 0.8 * x_n**2) / 2)\n",
        "\n",
        "        # Проверяем условие сходимости\n",
        "        if abs(x_new - x_n) < epsilon and abs(y_new - y_n) < epsilon:\n",
        "            break\n",
        "\n",
        "        # Обновляем значения\n",
        "        x_n = x_new\n",
        "        y_n = y_new\n",
        "        iteration_count += 1\n",
        "\n",
        "    # Округляем результаты до количества знаков, соответствующего точности\n",
        "    decimal_places = int(abs(log10(epsilon)))\n",
        "    x_n_rounded = round(x_n, decimal_places)\n",
        "    y_n_rounded = round(y_n, decimal_places)\n",
        "\n",
        "    return x_n_rounded, y_n_rounded, iteration_count\n",
        "\n",
        "# Задаем точности\n",
        "epsilon1 = 0.001\n",
        "epsilon2 = 0.0001\n",
        "\n",
        "# Решаем систему с точностью 0.001 и замеряем время\n",
        "start_time1 = time.time()\n",
        "x1, y1, iter1 = iteration_method(epsilon1)\n",
        "end_time1 = time.time()\n",
        "execution_time1 = end_time1 - start_time1\n",
        "\n",
        "# Решаем систему с точностью 0.0001 и замеряем время\n",
        "start_time2 = time.time()\n",
        "x2, y2, iter2 = iteration_method(epsilon2)\n",
        "end_time2 = time.time()\n",
        "execution_time2 = end_time2 - start_time2\n",
        "\n",
        "# Выводим результаты\n",
        "print(f\"Точность: {epsilon1}\")\n",
        "print(f\"x = {x1}, y = {y1}, Количество итераций: {iter1}\")\n",
        "print(f\"Время выполнения: {execution_time1:.6f} секунд\")\n",
        "print()\n",
        "print(f\"Точность: {epsilon2}\")\n",
        "print(f\"x = {x2}, y = {y2}, Количество итераций: {iter2}\")\n",
        "print(f\"Время выполнения: {execution_time2:.6f} секунд\")"
      ]
    }
  ]
}