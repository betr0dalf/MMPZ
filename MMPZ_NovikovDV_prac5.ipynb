{
  "nbformat": 4,
  "nbformat_minor": 0,
  "metadata": {
    "colab": {
      "provenance": [],
      "authorship_tag": "ABX9TyOrIDATi6qdBuNup/jB5YUN",
      "include_colab_link": true
    },
    "kernelspec": {
      "name": "python3",
      "display_name": "Python 3"
    },
    "language_info": {
      "name": "python"
    }
  },
  "cells": [
    {
      "cell_type": "markdown",
      "metadata": {
        "id": "view-in-github",
        "colab_type": "text"
      },
      "source": [
        "<a href=\"https://colab.research.google.com/github/betr0dalf/MMPZ/blob/main/MMPZ_NovikovDV_prac5.ipynb\" target=\"_parent\"><img src=\"https://colab.research.google.com/assets/colab-badge.svg\" alt=\"Open In Colab\"/></a>"
      ]
    },
    {
      "cell_type": "markdown",
      "source": [
        "# Математическое моделирование прикладных задач\n",
        "# Практическая работа № 5\n",
        "# Выполнил студент группы ИНБО-05-22\n",
        "# Новиков Денис Владиславович"
      ],
      "metadata": {
        "id": "oYBO0cXMZuLx"
      }
    },
    {
      "cell_type": "markdown",
      "source": [
        "## Модель ракеты"
      ],
      "metadata": {
        "id": "Yy5dJy9Gbr2F"
      }
    },
    {
      "cell_type": "markdown",
      "source": [
        "## Задание 1\n"
      ],
      "metadata": {
        "id": "yTedcSZVhEuk"
      }
    },
    {
      "cell_type": "markdown",
      "source": [
        "Написать программу расчета массы ступеней для двухступенчатой ракеты (положить mp = m0/20, V2(t) = 8 км/с, U = 3 км/с, V1(t) = V2(t)/2, λ = 0.1)."
      ],
      "metadata": {
        "id": "T53xhWT8I8RL"
      }
    },
    {
      "cell_type": "code",
      "execution_count": null,
      "metadata": {
        "colab": {
          "base_uri": "https://localhost:8080/"
        },
        "id": "oeGgzizlZcEG",
        "outputId": "ac7f634c-075a-4f29-a82d-6b685d6d8952"
      },
      "outputs": [
        {
          "output_type": "stream",
          "name": "stdout",
          "text": [
            "Двухступенчатая ракета:\n",
            "\n",
            "Введите полезную массу ракеты (Mp): 1000\n",
            "\n",
            "Масса первой ступени (M1): 24763.19\n",
            "Масса второй ступени (M2): 4501.32\n",
            "Общая масса (M3): 30264.51\n"
          ]
        }
      ],
      "source": [
        "from math import e\n",
        "\n",
        "\n",
        "V2 = 8\n",
        "V1 = V2 / 2\n",
        "U = 3\n",
        "lambda_value = 0.1\n",
        "\n",
        "\n",
        "def M_1(V1, M2, Mp, lam, U):\n",
        "    M1 = (e ** (V1 / U) * (M2 + Mp) - M2 - Mp) / (1 - lambda_value * e ** (V1 / U))\n",
        "    return M1\n",
        "\n",
        "\n",
        "def M_2(V1, V2, Mp, lam, U):\n",
        "    M2 = (e ** ((V2 - V1) / U) * Mp - Mp) / (1 - e ** ((V2 - V1) / U) * lambda_value)\n",
        "    return M2\n",
        "\n",
        "\n",
        "print('Двухступенчатая ракета:\\n')\n",
        "Mp = float(input('Введите полезную массу ракеты (Mp): '))\n",
        "\n",
        "M2 = M_2(V1, V2, Mp, lambda_value, U)\n",
        "M1 = M_1(V1, M2, Mp, lambda_value, U)\n",
        "\n",
        "print(f\"\\nМасса первой ступени (M1): {M1:.2f}\")\n",
        "print(f\"Масса второй ступени (M2): {M2:.2f}\")\n",
        "print(f\"Общая масса (M3): {(M1 + M2 + Mp):.2f}\")"
      ]
    },
    {
      "cell_type": "markdown",
      "source": [
        "\n",
        "## Задание 2"
      ],
      "metadata": {
        "id": "koRZaOCyg7II"
      }
    },
    {
      "cell_type": "markdown",
      "source": [
        "Вывести формулу для трехступенчатой ракеты. Написать программу расчета массы ступеней для трехступенчатой ракеты (положить V3(t) = 8 км/с, V1(t) = V2(t)/2, V2(t) = V3(t)/2)."
      ],
      "metadata": {
        "id": "WWY0iwWvJL7U"
      }
    },
    {
      "cell_type": "code",
      "source": [
        "from math import e\n",
        "\n",
        "\n",
        "V3 = 8\n",
        "V2 = V3 / 2\n",
        "V1 = V2 / 2\n",
        "U = 3\n",
        "lambda_value = 0.1\n",
        "\n",
        "def M_1(V1, M2, Mp, lam, U):\n",
        "    M1 = (e ** (V1 / U) * (M2 + Mp) - M2 - Mp) / (1 - lambda_value * e ** (V1 / U))\n",
        "    return M1\n",
        "\n",
        "\n",
        "def M_2(V1, V2, Mp, lam, U):\n",
        "    M2 = (e ** ((V2 - V1) / U) * Mp - Mp) / (1 - e ** ((V2 - V1) / U) * lambda_value)\n",
        "    return M2\n",
        "\n",
        "\n",
        "print('Трехступенчатая ракета:\\n')\n",
        "Mp = float(input('Введите полезную массу ракеты (Mp): '))\n",
        "\n",
        "M3 = M_2(V2, V3, Mp, lambda_value, U)\n",
        "M2 = M_1(V2, M3, Mp, lambda_value, U)\n",
        "M1 = M_1(V1, M2, Mp, lambda_value, U)\n",
        "\n",
        "print(f\"\\nМасса первой ступени (M1): {M1:.2f}\")\n",
        "print(f\"Масса второй ступени (M2): {M2:.2f}\")\n",
        "print(f\"Масса третьей ступени (M3): {M3:.2f}\")\n",
        "print(f\"Общая масса (M): {(M1 + M2 + M3 + Mp):.2f}\")"
      ],
      "metadata": {
        "colab": {
          "base_uri": "https://localhost:8080/"
        },
        "id": "Rd8lHwcYg3aq",
        "outputId": "c0edc845-9794-4133-fee3-032cada7088b"
      },
      "execution_count": null,
      "outputs": [
        {
          "output_type": "stream",
          "name": "stdout",
          "text": [
            "Трехступенчатая ракета:\n",
            "\n",
            "Введите полезную массу ракеты (Mp): 1000\n",
            "\n",
            "Масса первой ступени (M1): 30322.71\n",
            "Масса второй ступени (M2): 24763.19\n",
            "Масса третьей ступени (M3): 4501.32\n",
            "Общая масса (M): 60587.22\n"
          ]
        }
      ]
    }
  ]
}