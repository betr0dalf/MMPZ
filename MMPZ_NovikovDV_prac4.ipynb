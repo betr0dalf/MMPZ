{
  "nbformat": 4,
  "nbformat_minor": 0,
  "metadata": {
    "colab": {
      "provenance": [],
      "authorship_tag": "ABX9TyNY17G7hadfO/cAyMNKDHsI",
      "include_colab_link": true
    },
    "kernelspec": {
      "name": "python3",
      "display_name": "Python 3"
    },
    "language_info": {
      "name": "python"
    }
  },
  "cells": [
    {
      "cell_type": "markdown",
      "metadata": {
        "id": "view-in-github",
        "colab_type": "text"
      },
      "source": [
        "<a href=\"https://colab.research.google.com/github/betr0dalf/MMPZ/blob/main/MMPZ_NovikovDV_prac4.ipynb\" target=\"_parent\"><img src=\"https://colab.research.google.com/assets/colab-badge.svg\" alt=\"Open In Colab\"/></a>"
      ]
    },
    {
      "cell_type": "markdown",
      "source": [
        "# Математическое моделирование прикладных задач\n",
        "# Практическая работа № 4\n",
        "# Выполнил студент группы ИНБО-05-22\n",
        "# Новиков Денис Владиславович"
      ],
      "metadata": {
        "id": "oYBO0cXMZuLx"
      }
    },
    {
      "cell_type": "markdown",
      "source": [
        "## Модель спутника"
      ],
      "metadata": {
        "id": "Yy5dJy9Gbr2F"
      }
    },
    {
      "cell_type": "markdown",
      "source": [
        "## Задание 1\n"
      ],
      "metadata": {
        "id": "yTedcSZVhEuk"
      }
    },
    {
      "cell_type": "markdown",
      "source": [
        "Используя приведенные формулы написать программу расчета высоты геостационарного спутника Земли и количества таких спутников для покрытия земной поверхности."
      ],
      "metadata": {
        "id": "T53xhWT8I8RL"
      }
    },
    {
      "cell_type": "code",
      "execution_count": null,
      "metadata": {
        "colab": {
          "base_uri": "https://localhost:8080/"
        },
        "id": "oeGgzizlZcEG",
        "outputId": "50bec466-2bd6-4031-da5f-8a9426e54480"
      },
      "outputs": [
        {
          "output_type": "stream",
          "name": "stdout",
          "text": [
            "Высота геостационарной орбиты Земли: 35880.94 км\n",
            "Количество спутников для покрытия земной поверхности: 3\n"
          ]
        }
      ],
      "source": [
        "from math import pi, ceil\n",
        "\n",
        "# Константы для Земли\n",
        "R_earth = 6300 * 1000   # Радиус Земли в метрах\n",
        "g_earth = 10            # Ускорение свободного падения на поверхности Земли в м/с^2\n",
        "T_earth = 24 * 3600     # Период обращения Земли в секундах (24 часа)\n",
        "\n",
        "# Формула для расчета высоты геостационарной орбиты\n",
        "def geostationary_orbit_height(R, g, T):\n",
        "    return ( (R * g ** 0.5 * T) / (2 * pi) ) ** (2/3) - R\n",
        "\n",
        "# Расчет высоты геостационарной орбиты для Земли\n",
        "height_earth = geostationary_orbit_height(R_earth, g_earth, T_earth)\n",
        "print(f\"Высота геостационарной орбиты Земли: {height_earth / 1000:.2f} км\")\n",
        "\n",
        "# Расчет количества спутников для покрытия земной поверхности\n",
        "def number_of_satellites(R, R_moon):\n",
        "    h = R - (R ** 2 / R_moon)\n",
        "    S_segment = 2 * pi * R * h\n",
        "    S_total = 4 * pi * R ** 2\n",
        "    return S_total / S_segment\n",
        "\n",
        "R_moon = 379628 * 1000  # Расстояние от центра Земли до Луны в метрах\n",
        "num_satellites = number_of_satellites(R_earth, R_moon)\n",
        "print(f\"Количество спутников для покрытия земной поверхности: {ceil(num_satellites)}\")"
      ]
    },
    {
      "cell_type": "markdown",
      "source": [
        "\n",
        "## Задание 2"
      ],
      "metadata": {
        "id": "koRZaOCyg7II"
      }
    },
    {
      "cell_type": "markdown",
      "source": [
        "Написать программу расчета высоты геостационарного спутника для Марса и Венеры."
      ],
      "metadata": {
        "id": "WWY0iwWvJL7U"
      }
    },
    {
      "cell_type": "code",
      "source": [
        "# Константы для Марса\n",
        "R_mars = 3390 * 1000        # Радиус Марса в метрах\n",
        "g_mars = 3.71               # Ускорение свободного падения на поверхности Марса в м/с^2\n",
        "T_mars = 24.6 * 3600        # Период обращения Марса в секундах (24.6 часа)\n",
        "\n",
        "# Константы для Венеры\n",
        "R_venus = 6052 * 1000       # Радиус Венеры в метрах\n",
        "g_venus = 8.87              # Ускорение свободного падения на поверхности Венеры в м/с^2\n",
        "T_venus = 243 * 24 * 3600   # Период обращения Венеры в секундах (243 дня)\n",
        "\n",
        "# Расчет высоты геостационарной орбиты для Марса\n",
        "height_mars = geostationary_orbit_height(R_mars, g_mars, T_mars)\n",
        "print(f\"Высота геостационарной орбиты Марса: {height_mars / 1000:.2f} км\")\n",
        "\n",
        "# Расчет высоты геостационарной орбиты для Венеры\n",
        "height_venus = geostationary_orbit_height(R_venus, g_venus, T_venus)\n",
        "print(f\"Высота геостационарной орбиты Венеры: {height_venus / 1000:.2f} км\")"
      ],
      "metadata": {
        "colab": {
          "base_uri": "https://localhost:8080/"
        },
        "id": "Rd8lHwcYg3aq",
        "outputId": "2c635c50-4157-4f4f-d180-0158642b0e4d"
      },
      "execution_count": null,
      "outputs": [
        {
          "output_type": "stream",
          "name": "stdout",
          "text": [
            "Высота геостационарной орбиты Марса: 16994.32 км\n",
            "Высота геостационарной орбиты Венеры: 1530452.79 км\n"
          ]
        }
      ]
    }
  ]
}